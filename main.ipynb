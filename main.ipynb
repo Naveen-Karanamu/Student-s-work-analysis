{
 "cells": [
  {
   "cell_type": "markdown",
   "metadata": {},
   "source": [
    "# Student's JSON Data"
   ]
  },
  {
   "cell_type": "markdown",
   "metadata": {},
   "source": [
    "* Libraries"
   ]
  },
  {
   "cell_type": "code",
   "execution_count": 339,
   "metadata": {},
   "outputs": [],
   "source": [
    "# Pandas\n",
    "import pandas as pd\n",
    "\n",
    "# Numpy\n",
    "import numpy as np\n",
    "\n",
    "# Regex\n",
    "import regex as re\n",
    "\n",
    "# Matplotlib\n",
    "import matplotlib.pyplot as plt\n"
   ]
  },
  {
   "cell_type": "code",
   "execution_count": 347,
   "metadata": {},
   "outputs": [
    {
     "data": {
      "text/html": [
       "<div>\n",
       "<style scoped>\n",
       "    .dataframe tbody tr th:only-of-type {\n",
       "        vertical-align: middle;\n",
       "    }\n",
       "\n",
       "    .dataframe tbody tr th {\n",
       "        vertical-align: top;\n",
       "    }\n",
       "\n",
       "    .dataframe thead th {\n",
       "        text-align: right;\n",
       "    }\n",
       "</style>\n",
       "<table border=\"1\" class=\"dataframe\">\n",
       "  <thead>\n",
       "    <tr style=\"text-align: right;\">\n",
       "      <th></th>\n",
       "      <th>_id</th>\n",
       "      <th>student_id</th>\n",
       "      <th>class_id</th>\n",
       "      <th>scores</th>\n",
       "    </tr>\n",
       "  </thead>\n",
       "  <tbody>\n",
       "    <tr>\n",
       "      <th>0</th>\n",
       "      <td>{'$oid': '50b59cd75bed76f46522c34e'}</td>\n",
       "      <td>0</td>\n",
       "      <td>2</td>\n",
       "      <td>[{'type': 'exam', 'score': 57.92947112575566},...</td>\n",
       "    </tr>\n",
       "    <tr>\n",
       "      <th>1</th>\n",
       "      <td>{'$oid': '50b59cd75bed76f46522c34f'}</td>\n",
       "      <td>0</td>\n",
       "      <td>28</td>\n",
       "      <td>[{'type': 'exam', 'score': 39.17749400402234},...</td>\n",
       "    </tr>\n",
       "    <tr>\n",
       "      <th>2</th>\n",
       "      <td>{'$oid': '50b59cd75bed76f46522c350'}</td>\n",
       "      <td>0</td>\n",
       "      <td>5</td>\n",
       "      <td>[{'type': 'exam', 'score': 88.22950674232497},...</td>\n",
       "    </tr>\n",
       "    <tr>\n",
       "      <th>3</th>\n",
       "      <td>{'$oid': '50b59cd75bed76f46522c351'}</td>\n",
       "      <td>0</td>\n",
       "      <td>16</td>\n",
       "      <td>[{'type': 'exam', 'score': 59.1805667559299}, ...</td>\n",
       "    </tr>\n",
       "    <tr>\n",
       "      <th>4</th>\n",
       "      <td>{'$oid': '50b59cd75bed76f46522c352'}</td>\n",
       "      <td>0</td>\n",
       "      <td>24</td>\n",
       "      <td>[{'type': 'exam', 'score': 4.444435759027499},...</td>\n",
       "    </tr>\n",
       "  </tbody>\n",
       "</table>\n",
       "</div>"
      ],
      "text/plain": [
       "                                    _id  student_id  class_id  \\\n",
       "0  {'$oid': '50b59cd75bed76f46522c34e'}           0         2   \n",
       "1  {'$oid': '50b59cd75bed76f46522c34f'}           0        28   \n",
       "2  {'$oid': '50b59cd75bed76f46522c350'}           0         5   \n",
       "3  {'$oid': '50b59cd75bed76f46522c351'}           0        16   \n",
       "4  {'$oid': '50b59cd75bed76f46522c352'}           0        24   \n",
       "\n",
       "                                              scores  \n",
       "0  [{'type': 'exam', 'score': 57.92947112575566},...  \n",
       "1  [{'type': 'exam', 'score': 39.17749400402234},...  \n",
       "2  [{'type': 'exam', 'score': 88.22950674232497},...  \n",
       "3  [{'type': 'exam', 'score': 59.1805667559299}, ...  \n",
       "4  [{'type': 'exam', 'score': 4.444435759027499},...  "
      ]
     },
     "execution_count": 347,
     "metadata": {},
     "output_type": "execute_result"
    }
   ],
   "source": [
    "df=pd.read_json(\"https://raw.githubusercontent.com/ozlerhakan/mongodb-json-files/master/datasets/grades.json\", lines=True)\n",
    "df.head()"
   ]
  },
  {
   "cell_type": "code",
   "execution_count": 327,
   "metadata": {},
   "outputs": [
    {
     "data": {
      "text/plain": [
       "{'$oid': '50b59cd75bed76f46522c34e'}"
      ]
     },
     "execution_count": 327,
     "metadata": {},
     "output_type": "execute_result"
    }
   ],
   "source": [
    "df['_id'][0]"
   ]
  },
  {
   "cell_type": "markdown",
   "metadata": {},
   "source": [
    "* Cleaning _id"
   ]
  },
  {
   "cell_type": "code",
   "execution_count": 328,
   "metadata": {},
   "outputs": [],
   "source": [
    "def clean_id_func(da):\n",
    "    clean_id=re.sub('^{.*:..|\\'.*',\"\",str(da))\n",
    "    return( clean_id)\n",
    "df['_id']=df['_id'].apply(clean_id_func).astype(str)"
   ]
  },
  {
   "cell_type": "markdown",
   "metadata": {},
   "source": [
    "* Information about DataFrame"
   ]
  },
  {
   "cell_type": "code",
   "execution_count": 329,
   "metadata": {},
   "outputs": [
    {
     "name": "stdout",
     "output_type": "stream",
     "text": [
      "<class 'pandas.core.frame.DataFrame'>\n",
      "RangeIndex: 280 entries, 0 to 279\n",
      "Data columns (total 4 columns):\n",
      " #   Column      Non-Null Count  Dtype \n",
      "---  ------      --------------  ----- \n",
      " 0   _id         280 non-null    object\n",
      " 1   student_id  280 non-null    int64 \n",
      " 2   class_id    280 non-null    int64 \n",
      " 3   scores      280 non-null    object\n",
      "dtypes: int64(2), object(2)\n",
      "memory usage: 8.9+ KB\n"
     ]
    }
   ],
   "source": [
    "df.info()"
   ]
  },
  {
   "cell_type": "markdown",
   "metadata": {},
   "source": [
    "* Cleaning Scores"
   ]
  },
  {
   "cell_type": "code",
   "execution_count": 330,
   "metadata": {},
   "outputs": [
    {
     "data": {
      "text/plain": [
       "[{'type': 'exam', 'score': 57.92947112575566},\n",
       " {'type': 'quiz', 'score': 21.24542588206755},\n",
       " {'type': 'homework', 'score': 68.1956781058743},\n",
       " {'type': 'homework', 'score': 67.95019716560351},\n",
       " {'type': 'homework', 'score': 18.81037253352722}]"
      ]
     },
     "execution_count": 330,
     "metadata": {},
     "output_type": "execute_result"
    }
   ],
   "source": [
    "df['scores'][0]"
   ]
  },
  {
   "cell_type": "code",
   "execution_count": 331,
   "metadata": {},
   "outputs": [
    {
     "data": {
      "text/plain": [
       "'57.92947112575566'"
      ]
     },
     "execution_count": 331,
     "metadata": {},
     "output_type": "execute_result"
    }
   ],
   "source": [
    "clean_scores_exam=re.sub(\"^{.*re':.|}\",\"\",str(df['scores'][0][0]))\n",
    "clean_scores_exam"
   ]
  },
  {
   "cell_type": "code",
   "execution_count": 332,
   "metadata": {},
   "outputs": [
    {
     "data": {
      "text/plain": [
       "'37.78991935258481'"
      ]
     },
     "execution_count": 332,
     "metadata": {},
     "output_type": "execute_result"
    }
   ],
   "source": [
    "home=re.sub(\"^{.*re':.|}\",\"\",str(df['scores'][279][3]))\n",
    "home"
   ]
  },
  {
   "cell_type": "markdown",
   "metadata": {},
   "source": [
    "* Adding the cleaned scores to the new columns"
   ]
  },
  {
   "cell_type": "code",
   "execution_count": 333,
   "metadata": {},
   "outputs": [],
   "source": [
    "exam_score=[]\n",
    "quiz_score=[]\n",
    "homework_score=[]\n",
    "for i in range(280):\n",
    "    exam_score.append(round(float(re.sub(\"^{.*re':.|}\",\"\",str(df['scores'][i][0]))),2))\n",
    "    quiz_score.append(round(float(re.sub(\"^{.*re':.|}\",\"\",str(df['scores'][i][1]))),2))\n",
    "    home_one=re.sub(\"^{.*re':.|}\",\"\",str(df['scores'][i][2]))\n",
    "    home2=1\n",
    "    home3=1\n",
    "    try:\n",
    "        home_two=re.sub(\"^{.*re':.|}\",\"\",str(df['scores'][i][3]))\n",
    "    except:\n",
    "        home_two=home_one\n",
    "        home2=0\n",
    "        \n",
    "    try:\n",
    "        home_three=re.sub(\"^{.*re':.|}\",\"\",str(df['scores'][i][4]))\n",
    "    except:\n",
    "        home_three=home_one\n",
    "        home3=0\n",
    "    if(home2==0):\n",
    "        homework_score.append(round((float(home_one)+float(home_two)+float(home_three))/3,2))\n",
    "    elif(home3==0):\n",
    "        homework_score.append(round((float(home_one)+float(home_two))/2,2))\n",
    "    else:\n",
    "        homework_score.append(round((float(home_one)+float(home_two)+float(home_three))/3,2))\n",
    "    "
   ]
  },
  {
   "cell_type": "markdown",
   "metadata": {},
   "source": [
    "*Drop the score column"
   ]
  },
  {
   "cell_type": "code",
   "execution_count": 334,
   "metadata": {},
   "outputs": [],
   "source": [
    "df=df.drop('scores',axis=1)"
   ]
  },
  {
   "cell_type": "markdown",
   "metadata": {},
   "source": [
    "* Adding new columns to the df"
   ]
  },
  {
   "cell_type": "code",
   "execution_count": 335,
   "metadata": {},
   "outputs": [],
   "source": [
    "df[\"exam_score\"]=exam_score\n",
    "df['quiz_score']=quiz_score\n",
    "df['homework_score']=homework_score"
   ]
  },
  {
   "cell_type": "code",
   "execution_count": 346,
   "metadata": {},
   "outputs": [
    {
     "data": {
      "text/html": [
       "<div>\n",
       "<style scoped>\n",
       "    .dataframe tbody tr th:only-of-type {\n",
       "        vertical-align: middle;\n",
       "    }\n",
       "\n",
       "    .dataframe tbody tr th {\n",
       "        vertical-align: top;\n",
       "    }\n",
       "\n",
       "    .dataframe thead th {\n",
       "        text-align: right;\n",
       "    }\n",
       "</style>\n",
       "<table border=\"1\" class=\"dataframe\">\n",
       "  <thead>\n",
       "    <tr style=\"text-align: right;\">\n",
       "      <th></th>\n",
       "      <th>_id</th>\n",
       "      <th>student_id</th>\n",
       "      <th>class_id</th>\n",
       "      <th>exam_score</th>\n",
       "      <th>quiz_score</th>\n",
       "      <th>homework_score</th>\n",
       "    </tr>\n",
       "  </thead>\n",
       "  <tbody>\n",
       "    <tr>\n",
       "      <th>0</th>\n",
       "      <td>50b59cd75bed76f46522c34e</td>\n",
       "      <td>0</td>\n",
       "      <td>2</td>\n",
       "      <td>57.93</td>\n",
       "      <td>21.25</td>\n",
       "      <td>51.65</td>\n",
       "    </tr>\n",
       "    <tr>\n",
       "      <th>1</th>\n",
       "      <td>50b59cd75bed76f46522c34f</td>\n",
       "      <td>0</td>\n",
       "      <td>28</td>\n",
       "      <td>39.18</td>\n",
       "      <td>78.44</td>\n",
       "      <td>47.31</td>\n",
       "    </tr>\n",
       "    <tr>\n",
       "      <th>2</th>\n",
       "      <td>50b59cd75bed76f46522c350</td>\n",
       "      <td>0</td>\n",
       "      <td>5</td>\n",
       "      <td>88.23</td>\n",
       "      <td>79.29</td>\n",
       "      <td>20.06</td>\n",
       "    </tr>\n",
       "    <tr>\n",
       "      <th>3</th>\n",
       "      <td>50b59cd75bed76f46522c351</td>\n",
       "      <td>0</td>\n",
       "      <td>16</td>\n",
       "      <td>59.18</td>\n",
       "      <td>47.59</td>\n",
       "      <td>51.12</td>\n",
       "    </tr>\n",
       "    <tr>\n",
       "      <th>4</th>\n",
       "      <td>50b59cd75bed76f46522c352</td>\n",
       "      <td>0</td>\n",
       "      <td>24</td>\n",
       "      <td>4.44</td>\n",
       "      <td>28.63</td>\n",
       "      <td>85.35</td>\n",
       "    </tr>\n",
       "  </tbody>\n",
       "</table>\n",
       "</div>"
      ],
      "text/plain": [
       "                        _id  student_id  class_id  exam_score  quiz_score  \\\n",
       "0  50b59cd75bed76f46522c34e           0         2       57.93       21.25   \n",
       "1  50b59cd75bed76f46522c34f           0        28       39.18       78.44   \n",
       "2  50b59cd75bed76f46522c350           0         5       88.23       79.29   \n",
       "3  50b59cd75bed76f46522c351           0        16       59.18       47.59   \n",
       "4  50b59cd75bed76f46522c352           0        24        4.44       28.63   \n",
       "\n",
       "   homework_score  \n",
       "0           51.65  \n",
       "1           47.31  \n",
       "2           20.06  \n",
       "3           51.12  \n",
       "4           85.35  "
      ]
     },
     "execution_count": 346,
     "metadata": {},
     "output_type": "execute_result"
    }
   ],
   "source": [
    "df.head()"
   ]
  },
  {
   "cell_type": "markdown",
   "metadata": {},
   "source": [
    "* New informaiton about the df"
   ]
  },
  {
   "cell_type": "code",
   "execution_count": 337,
   "metadata": {},
   "outputs": [
    {
     "name": "stdout",
     "output_type": "stream",
     "text": [
      "<class 'pandas.core.frame.DataFrame'>\n",
      "RangeIndex: 280 entries, 0 to 279\n",
      "Data columns (total 6 columns):\n",
      " #   Column          Non-Null Count  Dtype  \n",
      "---  ------          --------------  -----  \n",
      " 0   _id             280 non-null    object \n",
      " 1   student_id      280 non-null    int64  \n",
      " 2   class_id        280 non-null    int64  \n",
      " 3   exam_score      280 non-null    float64\n",
      " 4   quiz_score      280 non-null    float64\n",
      " 5   homework_score  280 non-null    float64\n",
      "dtypes: float64(3), int64(2), object(1)\n",
      "memory usage: 13.2+ KB\n"
     ]
    }
   ],
   "source": [
    "df.info()"
   ]
  },
  {
   "cell_type": "markdown",
   "metadata": {},
   "source": [
    "* Description of the df"
   ]
  },
  {
   "cell_type": "code",
   "execution_count": 338,
   "metadata": {},
   "outputs": [
    {
     "data": {
      "text/html": [
       "<div>\n",
       "<style scoped>\n",
       "    .dataframe tbody tr th:only-of-type {\n",
       "        vertical-align: middle;\n",
       "    }\n",
       "\n",
       "    .dataframe tbody tr th {\n",
       "        vertical-align: top;\n",
       "    }\n",
       "\n",
       "    .dataframe thead th {\n",
       "        text-align: right;\n",
       "    }\n",
       "</style>\n",
       "<table border=\"1\" class=\"dataframe\">\n",
       "  <thead>\n",
       "    <tr style=\"text-align: right;\">\n",
       "      <th></th>\n",
       "      <th>student_id</th>\n",
       "      <th>class_id</th>\n",
       "      <th>exam_score</th>\n",
       "      <th>quiz_score</th>\n",
       "      <th>homework_score</th>\n",
       "    </tr>\n",
       "  </thead>\n",
       "  <tbody>\n",
       "    <tr>\n",
       "      <th>count</th>\n",
       "      <td>280.000000</td>\n",
       "      <td>280.000000</td>\n",
       "      <td>280.000000</td>\n",
       "      <td>280.000000</td>\n",
       "      <td>280.000000</td>\n",
       "    </tr>\n",
       "    <tr>\n",
       "      <th>mean</th>\n",
       "      <td>23.717857</td>\n",
       "      <td>15.096429</td>\n",
       "      <td>50.831143</td>\n",
       "      <td>48.960893</td>\n",
       "      <td>48.712786</td>\n",
       "    </tr>\n",
       "    <tr>\n",
       "      <th>std</th>\n",
       "      <td>14.314029</td>\n",
       "      <td>8.958766</td>\n",
       "      <td>28.709625</td>\n",
       "      <td>29.398710</td>\n",
       "      <td>20.676447</td>\n",
       "    </tr>\n",
       "    <tr>\n",
       "      <th>min</th>\n",
       "      <td>0.000000</td>\n",
       "      <td>0.000000</td>\n",
       "      <td>0.500000</td>\n",
       "      <td>0.720000</td>\n",
       "      <td>4.790000</td>\n",
       "    </tr>\n",
       "    <tr>\n",
       "      <th>25%</th>\n",
       "      <td>11.000000</td>\n",
       "      <td>7.000000</td>\n",
       "      <td>24.117500</td>\n",
       "      <td>23.837500</td>\n",
       "      <td>34.062500</td>\n",
       "    </tr>\n",
       "    <tr>\n",
       "      <th>50%</th>\n",
       "      <td>24.000000</td>\n",
       "      <td>15.500000</td>\n",
       "      <td>49.685000</td>\n",
       "      <td>49.850000</td>\n",
       "      <td>48.490000</td>\n",
       "    </tr>\n",
       "    <tr>\n",
       "      <th>75%</th>\n",
       "      <td>37.000000</td>\n",
       "      <td>23.000000</td>\n",
       "      <td>75.517500</td>\n",
       "      <td>72.822500</td>\n",
       "      <td>62.710000</td>\n",
       "    </tr>\n",
       "    <tr>\n",
       "      <th>max</th>\n",
       "      <td>49.000000</td>\n",
       "      <td>30.000000</td>\n",
       "      <td>99.980000</td>\n",
       "      <td>99.910000</td>\n",
       "      <td>98.920000</td>\n",
       "    </tr>\n",
       "  </tbody>\n",
       "</table>\n",
       "</div>"
      ],
      "text/plain": [
       "       student_id    class_id  exam_score  quiz_score  homework_score\n",
       "count  280.000000  280.000000  280.000000  280.000000      280.000000\n",
       "mean    23.717857   15.096429   50.831143   48.960893       48.712786\n",
       "std     14.314029    8.958766   28.709625   29.398710       20.676447\n",
       "min      0.000000    0.000000    0.500000    0.720000        4.790000\n",
       "25%     11.000000    7.000000   24.117500   23.837500       34.062500\n",
       "50%     24.000000   15.500000   49.685000   49.850000       48.490000\n",
       "75%     37.000000   23.000000   75.517500   72.822500       62.710000\n",
       "max     49.000000   30.000000   99.980000   99.910000       98.920000"
      ]
     },
     "execution_count": 338,
     "metadata": {},
     "output_type": "execute_result"
    }
   ],
   "source": [
    "df.describe()"
   ]
  },
  {
   "cell_type": "markdown",
   "metadata": {},
   "source": [
    "* Exam score Vs Homework score Graph (Scattere)\n",
    "\n"
   ]
  },
  {
   "cell_type": "code",
   "execution_count": 345,
   "metadata": {},
   "outputs": [
    {
     "data": {
      "image/png": "[encoded data removed]",
      "text/plain": [
       "<Figure size 432x288 with 1 Axes>"
      ]
     },
     "metadata": {
      "needs_background": "light"
     },
     "output_type": "display_data"
    }
   ],
   "source": [
    "x=df.exam_score[20:30]\n",
    "y=df.homework_score[20:30]\n",
    "plt.title(\"Exam score Vs Homework score\")\n",
    "plt.xlabel(\"Exam score\")\n",
    "plt.ylabel(\"Homework score\")\n",
    "plot=plt.scatter(x,y)"
   ]
  },
  {
   "cell_type": "markdown",
   "metadata": {},
   "source": [
    "* Conclusion: All the students who does the homeworks well doesn't necessesarly do well in exams"
   ]
  }
 ],
 "metadata": {
  "interpreter": {
   "hash": "cb4a6ece8dc9cf1f5b1565d05f1a189d257ecb16f7f86b5ca0cc8563c18481dc"
  },
  "kernelspec": {
   "display_name": "Python 3.9.7 ('base')",
   "language": "python",
   "name": "python3"
  },
  "language_info": {
   "codemirror_mode": {
    "name": "ipython",
    "version": 3
   },
   "file_extension": ".py",
   "mimetype": "text/x-python",
   "name": "python",
   "nbconvert_exporter": "python",
   "pygments_lexer": "ipython3",
   "version": "3.9.7"
  },
  "orig_nbformat": 4
 },
 "nbformat": 4,
 "nbformat_minor": 2
}
